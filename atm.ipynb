{
 "cells": [
  {
   "cell_type": "code",
   "execution_count": null,
   "metadata": {},
   "outputs": [
    {
     "name": "stdout",
     "output_type": "stream",
     "text": [
      "PIN created and balance added successfully!\n",
      "Withdrawal successful! Your remaining balance is: 8000\n",
      "Your current balance is: 8000\n",
      "Thank you for using our service. Goodbye!\n"
     ]
    }
   ],
   "source": [
    "class AtmMachine:\n",
    "    def __init__(self):\n",
    "        self.pin = \"\"\n",
    "        self.balance = 0\n",
    "        self.menu()\n",
    "#hello jackyyyyyyy\n",
    "    def menu(self):\n",
    "        while True: \n",
    "            user_input = input(\n",
    "                \"\"\"\n",
    "                HELLO SIR/MAAM, HOW CAN I HELP YOU?\n",
    "                \n",
    "                1. PRESS 1 TO CREATE ATM PIN\n",
    "                2. PRESS 2 TO CHANGE PIN\n",
    "                3. PRESS 3 TO CHECK BALANCE\n",
    "                4. PRESS 4 TO WITHDRAW THE AMOUNT\n",
    "                5. PRESS ANYTHING ELSE TO EXIT\n",
    "                \n",
    "                Enter your choice: \"\"\"\n",
    "            )\n",
    "\n",
    "            if user_input == \"1\":\n",
    "                self.create_pin()\n",
    "            elif user_input == \"2\":\n",
    "                self.change_pin()\n",
    "            elif user_input == \"3\":\n",
    "                self.check_balance()\n",
    "            elif user_input == \"4\":\n",
    "                self.withdraw_amount()\n",
    "            else:\n",
    "                print(\"Thank you for using our service. Goodbye!\")\n",
    "                break\n",
    "\n",
    "    def create_pin(self):\n",
    "        user_pin = input(\"Enter your new PIN: \")\n",
    "        self.pin = user_pin\n",
    "        user_balance = int(input(\"Enter your initial balance: \"))\n",
    "        self.balance = user_balance\n",
    "        print(\"PIN created and balance added successfully!\")\n",
    "\n",
    "    def change_pin(self):\n",
    "        if not self.pin:\n",
    "            print(\"Please create a PIN first.\")\n",
    "            return\n",
    "        old_pin = input(\"Enter your old PIN: \")\n",
    "        if old_pin == self.pin:\n",
    "            new_pin = input(\"Enter your new PIN: \")\n",
    "            self.pin = new_pin\n",
    "            print(\"PIN changed successfully!\")\n",
    "        else:\n",
    "            print(\"Incorrect PIN. Please try again later.\")\n",
    "\n",
    "    def check_balance(self):\n",
    "        if not self.pin:\n",
    "            print(\"Please create a PIN first.\")\n",
    "            return\n",
    "        entered_pin = input(\"Enter your PIN: \")\n",
    "        if entered_pin == self.pin:\n",
    "            print(f\"Your current balance is: {self.balance}\")\n",
    "        else:\n",
    "            print(\"Incorrect PIN. Access denied.\")\n",
    "\n",
    "    def withdraw_amount(self):\n",
    "        if not self.pin:\n",
    "            print(\"Please create a PIN first.\")\n",
    "            return\n",
    "        entered_pin = input(\"Enter your PIN: \")\n",
    "        if entered_pin == self.pin:\n",
    "            amount = int(input(\"Enter the amount to withdraw: \"))\n",
    "            if amount <= self.balance:\n",
    "                self.balance -= amount\n",
    "                print(f\"Withdrawal successful! Your remaining balance is: {self.balance}\")\n",
    "            else:\n",
    "                print(\"Insufficient balance.\")\n",
    "        else:\n",
    "            print(\"Incorrect PIN. Access denied.\")\n",
    "\n",
    "\n",
    "atm = AtmMachine()\n"
   ]
  },
  {
   "cell_type": "code",
   "execution_count": 11,
   "metadata": {},
   "outputs": [
    {
     "name": "stdout",
     "output_type": "stream",
     "text": [
      "PIN created and balance added successfully!\n",
      "Thank you for using our service. Goodbye!\n"
     ]
    }
   ],
   "source": [
    "obj = AtmMachine()"
   ]
  },
  {
   "cell_type": "code",
   "execution_count": 12,
   "metadata": {},
   "outputs": [
    {
     "name": "stdout",
     "output_type": "stream",
     "text": [
      "<class '__main__.AtmMachine'>\n"
     ]
    }
   ],
   "source": [
    "print(type(obj))"
   ]
  }
 ],
 "metadata": {
  "kernelspec": {
   "display_name": "Python 3",
   "language": "python",
   "name": "python3"
  },
  "language_info": {
   "codemirror_mode": {
    "name": "ipython",
    "version": 3
   },
   "file_extension": ".py",
   "mimetype": "text/x-python",
   "name": "python",
   "nbconvert_exporter": "python",
   "pygments_lexer": "ipython3",
   "version": "3.12.4"
  }
 },
 "nbformat": 4,
 "nbformat_minor": 2
}
